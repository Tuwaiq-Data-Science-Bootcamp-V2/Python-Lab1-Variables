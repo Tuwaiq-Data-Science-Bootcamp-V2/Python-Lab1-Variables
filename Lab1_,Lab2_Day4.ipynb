{
  "nbformat": 4,
  "nbformat_minor": 0,
  "metadata": {
    "colab": {
      "provenance": []
    },
    "kernelspec": {
      "name": "python3",
      "display_name": "Python 3"
    },
    "language_info": {
      "name": "python"
    }
  },
  "cells": [
    {
      "cell_type": "code",
      "execution_count": 1,
      "metadata": {
        "id": "wDxCwYwCTE8A"
      },
      "outputs": [],
      "source": [
        "#Define a variable that has a value of your favourite season.\n",
        "fav_season = \"winter\""
      ]
    },
    {
      "cell_type": "code",
      "source": [
        "#Define “x“ variable has an integer value and variable “y” has a float value\n",
        "x = 5\n",
        "y = 1.5"
      ],
      "metadata": {
        "id": "iYbuvDkZTi55"
      },
      "execution_count": 2,
      "outputs": []
    },
    {
      "cell_type": "code",
      "source": [
        "#Assign One Value to Multiple Variables.\n",
        "x = y = z =25"
      ],
      "metadata": {
        "id": "ghCEGjjnTmG_"
      },
      "execution_count": 4,
      "outputs": []
    },
    {
      "cell_type": "code",
      "source": [
        "#Assign Many Values to Multiple Variables.\n",
        "a , b , c = True , False , True"
      ],
      "metadata": {
        "id": "DH2-1bdcT_xI"
      },
      "execution_count": 5,
      "outputs": []
    },
    {
      "cell_type": "markdown",
      "source": [
        "LAB 2"
      ],
      "metadata": {
        "id": "fBWZLSTAZkGy"
      }
    },
    {
      "cell_type": "code",
      "source": [
        "#Create a variable for the movie (choose any movie you like).\n",
        "movie = \"pried and prejudice\"\n",
        "#Create a variable of type int to hold the rating of the movie out of 5. Give this movie rate = 3\n",
        "movie_rate = 9.0\n",
        "#Create a popularity score of type float, let it be 72.65\n",
        "movie_score = 72.65\n"
      ],
      "metadata": {
        "id": "jeynpUNwUiKT"
      },
      "execution_count": 6,
      "outputs": []
    },
    {
      "cell_type": "code",
      "source": [
        "\"\"\"\n",
        "Using an if statement:\n",
        "Check if the movie rating is 4 or greater and the popularity is greater than 80, print \"Highly recommended\".\n",
        "Else if the movie rating is 3 or greater and the popularity is greater than 70, print \"I recommended it, It is good\".\n",
        "Else if the movie rating is 2 or less and the popularity is greater than 60, print \"You should check it out!\".\n",
        "Else the movie rating is 2 or less and the popularity is less than 50, print \"Don't watch it, It is a waste of time\".\n",
        "\"\"\"\n"
      ],
      "metadata": {
        "colab": {
          "base_uri": "https://localhost:8080/",
          "height": 87
        },
        "id": "rxCCgoPyUpLH",
        "outputId": "12648cb2-158f-4949-e186-ba15f27c8ded"
      },
      "execution_count": 7,
      "outputs": [
        {
          "output_type": "execute_result",
          "data": {
            "text/plain": [
              "'\\nUsing an if statement:\\nCheck if the movie rating is 4 or greater and the popularity is greater than 80, print \"Highly recommended\".\\nElse if the movie rating is 3 or greater and the popularity is greater than 70, print \"I recommended it, It is good\".\\nElse if the movie rating is 2 or less and the popularity is greater than 60, print \"You should check it out!\".\\nElse the movie rating is 2 or less and the popularity is less than 50, print \"Don\\'t watch it, It is a waste of time\".\\n'"
            ],
            "application/vnd.google.colaboratory.intrinsic+json": {
              "type": "string"
            }
          },
          "metadata": {},
          "execution_count": 7
        }
      ]
    },
    {
      "cell_type": "code",
      "source": [
        "if movie_rate >= 4 and movie_score > 80:\n",
        "  print(\"Highly recommended\")\n",
        "elif movie_rate >=3 and movie_score >70:\n",
        "  print(\"I recommended it, It is good\")\n",
        "elif movie_rate >=2 and movie_score >60:\n",
        "  print(\"You should check it out!\")\n",
        "else:\n",
        "  print(\"Don't watch it, It is a waste of time\")"
      ],
      "metadata": {
        "colab": {
          "base_uri": "https://localhost:8080/"
        },
        "id": "Qw9l7gAPXBH7",
        "outputId": "4684c15a-be9e-483d-a9e7-7ab8a0193085"
      },
      "execution_count": 8,
      "outputs": [
        {
          "output_type": "stream",
          "name": "stdout",
          "text": [
            "I recommended it, It is good\n"
          ]
        }
      ]
    }
  ]
}