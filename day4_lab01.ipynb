{
 "cells": [
  {
   "cell_type": "code",
   "execution_count": 1,
   "id": "e76b240b",
   "metadata": {},
   "outputs": [],
   "source": [
    "# Variable fav_season contains my favourite season\n",
    "fav_season = 'winter'\n",
    "\n",
    "# x,y,a and b are variables containing random va\n",
    "x, y = 1, 1.5\n",
    "a = b = 5"
   ]
  },
  {
   "cell_type": "code",
   "execution_count": 3,
   "id": "047dc9e6",
   "metadata": {},
   "outputs": [
    {
     "name": "stdout",
     "output_type": "stream",
     "text": [
      "1    1.5\n",
      "5    5\n"
     ]
    }
   ],
   "source": [
    "print(x,'  ',y)\n",
    "print(a,'  ',b)"
   ]
  }
 ],
 "metadata": {
  "kernelspec": {
   "display_name": "Python 3 (ipykernel)",
   "language": "python",
   "name": "python3"
  },
  "language_info": {
   "codemirror_mode": {
    "name": "ipython",
    "version": 3
   },
   "file_extension": ".py",
   "mimetype": "text/x-python",
   "name": "python",
   "nbconvert_exporter": "python",
   "pygments_lexer": "ipython3",
   "version": "3.9.1"
  }
 },
 "nbformat": 4,
 "nbformat_minor": 5
}
